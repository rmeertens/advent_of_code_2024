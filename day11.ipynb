{
 "cells": [
  {
   "cell_type": "code",
   "execution_count": 43,
   "metadata": {},
   "outputs": [
    {
     "data": {
      "text/plain": [
       "224869647102559"
      ]
     },
     "execution_count": 43,
     "metadata": {},
     "output_type": "execute_result"
    }
   ],
   "source": [
    "from functools import cache\n",
    "\n",
    "@cache\n",
    "def get_stones_after_steps(stones, steps):\n",
    "    if steps == 0:\n",
    "        return len(stones)\n",
    "    \n",
    "    total_stones = 0\n",
    "    for stone in stones: \n",
    "        if stone == '0':\n",
    "            total_stones += get_stones_after_steps(('1',), steps - 1)\n",
    "        elif len(stone) % 2 == 0:\n",
    "            left, right = stone[:len(stone)//2], stone[len(stone)//2:]\n",
    "            \n",
    "            # Remove leading zeros\n",
    "            left = str(int(left))\n",
    "            right = str(int(right))\n",
    "            \n",
    "            total_stones += get_stones_after_steps((left,), steps - 1)\n",
    "            total_stones += get_stones_after_steps((right,), steps - 1)\n",
    "        else: \n",
    "            total_stones += get_stones_after_steps((str(int(stone) * 2024),), steps - 1)\n",
    "            \n",
    "    return total_stones\n",
    "\n",
    "stones = open('inputs/day11.txt').read().strip().split(' ')\n",
    "# stones = \"125 17\".split(' ')\n",
    "get_stones_after_steps(tuple(stones), 75)"
   ]
  }
 ],
 "metadata": {
  "kernelspec": {
   "display_name": "Python 3",
   "language": "python",
   "name": "python3"
  },
  "language_info": {
   "codemirror_mode": {
    "name": "ipython",
    "version": 3
   },
   "file_extension": ".py",
   "mimetype": "text/x-python",
   "name": "python",
   "nbconvert_exporter": "python",
   "pygments_lexer": "ipython3",
   "version": "3.11.5"
  }
 },
 "nbformat": 4,
 "nbformat_minor": 2
}
