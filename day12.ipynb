{
 "cells": [
  {
   "cell_type": "code",
   "execution_count": 2,
   "metadata": {},
   "outputs": [
    {
     "name": "stdout",
     "output_type": "stream",
     "text": [
      "Part 1: 1402544\n",
      "Part 2: 862486\n"
     ]
    }
   ],
   "source": [
    "import matplotlib.pyplot as plt\n",
    "from scipy.ndimage import label\n",
    "import numpy as np\n",
    "\n",
    "neighbors = [(0,1), (0,-1), (1,0), (-1,0)]\n",
    "fence_neighbors = {\n",
    "    (0,1): [(-1, 0), (1, 0)],\n",
    "    (0,-1): [(-1, 0), (1, 0)],\n",
    "    (1,0): [(0, -1), (0, 1)],\n",
    "    (-1,0): [(0, -1), (0, 1)]\n",
    "}\n",
    "\n",
    "def determine_cost(garden, is_part_2=False): \n",
    "    plants = np.unique(garden)\n",
    "\n",
    "    total_cost = 0\n",
    "    for plant in plants: \n",
    "        # Split it into the areas which are not connected to each other\n",
    "        labeled, ncomponents = label(garden == plant)\n",
    "        \n",
    "        for i in range(1,ncomponents+1): # Go over each component\n",
    "            area = np.sum(labeled == i) # Area is simply the number of pixels in the component\n",
    "\n",
    "            surface_area_of_fence = 0 \n",
    "            placed_fences = []\n",
    "            y_positions, x_positions = np.where(labeled == i) \n",
    "            \n",
    "            # For each pixel, determine whether it needs a fence\n",
    "            for point in zip(y_positions, x_positions):\n",
    "                # Check each neighbouring pixel\n",
    "                for dir_index, (dy, dx) in enumerate(neighbors):\n",
    "                    ny, nx = point[0]+dy, point[1]+dx\n",
    "\n",
    "                    # If we get out of bounds or the neighbouring pixel is not part of the component we need a fence. \n",
    "                    if ny < 0 or ny >= labeled.shape[0] or nx < 0 or nx >= labeled.shape[1] or labeled[ny, nx] != i:\n",
    "                        if not is_part_2:\n",
    "                            surface_area_of_fence += 1\n",
    "                        else: \n",
    "                            # For part 2 we check the neighbours of the fence to see if it is connected to another fence\n",
    "                            has_fence_neighbor = False\n",
    "                            fence = (point[0], point[1], dir_index)\n",
    "\n",
    "                            placed_fences.append(fence)\n",
    "\n",
    "                            for neighbor_dy, neighbor_dx in fence_neighbors[(dy, dx)]:\n",
    "                                xy, xx = point[0]+neighbor_dy, point[1]+neighbor_dx\n",
    "                                if 0 <= xy < labeled.shape[0] and 0 <= xx < labeled.shape[1]:     \n",
    "                                    if (xy, xx, dir_index) in placed_fences:\n",
    "                                        has_fence_neighbor = True\n",
    "                                        break\n",
    "\n",
    "                            if not has_fence_neighbor:\n",
    "                                surface_area_of_fence += 1\n",
    "            \n",
    "            total_cost += surface_area_of_fence * area\n",
    "\n",
    "    return total_cost\n",
    "\n",
    "garden = open('inputs/day12.txt').read().splitlines()\n",
    "garden = np.array([[plant for plant in line] for line in garden])\n",
    "\n",
    "print(\"Part 1:\", determine_cost(garden))\n",
    "print(\"Part 2:\", determine_cost(garden, is_part_2=True))"
   ]
  }
 ],
 "metadata": {
  "kernelspec": {
   "display_name": "Python 3",
   "language": "python",
   "name": "python3"
  },
  "language_info": {
   "codemirror_mode": {
    "name": "ipython",
    "version": 3
   },
   "file_extension": ".py",
   "mimetype": "text/x-python",
   "name": "python",
   "nbconvert_exporter": "python",
   "pygments_lexer": "ipython3",
   "version": "3.11.5"
  }
 },
 "nbformat": 4,
 "nbformat_minor": 2
}
