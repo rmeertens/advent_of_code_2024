{
 "cells": [
  {
   "cell_type": "code",
   "execution_count": 38,
   "metadata": {},
   "outputs": [
    {
     "name": "stdout",
     "output_type": "stream",
     "text": [
      "Part 1: 1110\n",
      "Part 2: ej,hm,ks,ms,ns,rb,rq,sc,so,un,vb,vd,wd\n"
     ]
    }
   ],
   "source": [
    "from collections import defaultdict\n",
    "from itertools import combinations\n",
    "\n",
    "lines = open('inputs/day23.txt').readlines()\n",
    "\n",
    "connections = defaultdict(list)\n",
    "for line in lines:\n",
    "    line = line.strip().split('-')\n",
    "    connections[line[0]].append(line[1])\n",
    "    connections[line[1]].append(line[0])\n",
    "\n",
    "    \n",
    "\n",
    "def are_all_connected(computers):\n",
    "    for i in range(len(computers)):\n",
    "        for j in range(i+1, len(computers)):\n",
    "            if computers[j] not in connections[computers[i]]:\n",
    "                return False\n",
    "    return True\n",
    "\n",
    "\n",
    "\n",
    "def get_largest_group(computer): \n",
    "    i = len(connections[computer])\n",
    "    while i > 0:\n",
    "        for group in combinations(connections[computer], i):\n",
    "            if are_all_connected(group):\n",
    "                return group + (computer,)\n",
    "        i -= 1\n",
    "    return None\n",
    "\n",
    "sets_of_three = set()\n",
    "for key in connections:\n",
    "    if key.startswith('t'): \n",
    "        for val1, val2 in combinations(connections[key], 2):\n",
    "            if are_all_connected([key, val1, val2]):\n",
    "                name = sorted([key, val1, val2])\n",
    "                sets_of_three.add(tuple(name))\n",
    "\n",
    "sets_of_three = set(sets_of_three)\n",
    "print('Part 1:', len(sets_of_three))\n",
    "\n",
    "\n",
    "largest_count = 0 \n",
    "largest_group = None\n",
    "for key in connections: \n",
    "    group = get_largest_group(key)\n",
    "    if group and len(group) > largest_count:\n",
    "        largest_count = len(group)\n",
    "        largest_group = group\n",
    "\n",
    "print('Part 2:', ','.join(sorted(largest_group)))"
   ]
  },
  {
   "cell_type": "code",
   "execution_count": null,
   "metadata": {},
   "outputs": [],
   "source": []
  },
  {
   "cell_type": "code",
   "execution_count": null,
   "metadata": {},
   "outputs": [
    {
     "data": {
      "text/plain": [
       "7"
      ]
     },
     "execution_count": 17,
     "metadata": {},
     "output_type": "execute_result"
    }
   ],
   "source": []
  },
  {
   "cell_type": "code",
   "execution_count": null,
   "metadata": {},
   "outputs": [],
   "source": []
  },
  {
   "cell_type": "code",
   "execution_count": null,
   "metadata": {},
   "outputs": [
    {
     "data": {
      "text/plain": [
       "'ej,hm,ks,ms,ns,rb,rq,sc,so,un,vb,vd,wd'"
      ]
     },
     "execution_count": 32,
     "metadata": {},
     "output_type": "execute_result"
    }
   ],
   "source": []
  },
  {
   "cell_type": "code",
   "execution_count": null,
   "metadata": {},
   "outputs": [],
   "source": []
  }
 ],
 "metadata": {
  "kernelspec": {
   "display_name": "base",
   "language": "python",
   "name": "python3"
  },
  "language_info": {
   "codemirror_mode": {
    "name": "ipython",
    "version": 3
   },
   "file_extension": ".py",
   "mimetype": "text/x-python",
   "name": "python",
   "nbconvert_exporter": "python",
   "pygments_lexer": "ipython3",
   "version": "3.11.5"
  }
 },
 "nbformat": 4,
 "nbformat_minor": 2
}
