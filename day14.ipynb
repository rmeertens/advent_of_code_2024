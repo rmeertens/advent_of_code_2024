{
 "cells": [
  {
   "cell_type": "code",
   "execution_count": 49,
   "metadata": {},
   "outputs": [
    {
     "name": "stdout",
     "output_type": "stream",
     "text": [
      "Part 1, safety factor 231852216\n",
      "8159\n"
     ]
    },
    {
     "data": {
      "image/png": "[encoded data removed]",
      "text/plain": [
       "<Figure size 640x480 with 1 Axes>"
      ]
     },
     "metadata": {},
     "output_type": "display_data"
    }
   ],
   "source": [
    "import re\n",
    "import numpy as np\n",
    "import matplotlib.pyplot as plt\n",
    "from collections import defaultdict\n",
    "\n",
    "# file = \"inputs/day14_example.txt\"\n",
    "# width, height = 11, 7\n",
    "\n",
    "file = \"inputs/day14.txt\"\n",
    "width, height = 101, 103\n",
    "\n",
    "def get_robots(file):\n",
    "    robots = list()\n",
    "    for line in open(file):\n",
    "        xpos, ypos, xvel, yvel = map(int, re.findall(r'-?\\d+', line))\n",
    "        robots.append((xpos, ypos, xvel, yvel))\n",
    "    return robots\n",
    "\n",
    "def simulate(robots, width, height, steps=100):\n",
    "    for step in range(steps):\n",
    "        new_robots = list()\n",
    "        for xpos, ypos, xvel, yvel in robots:\n",
    "            xpos += xvel\n",
    "            ypos += yvel\n",
    "            \n",
    "            new_robots.append((xpos % width, ypos % height, xvel, yvel))\n",
    "        robots = new_robots\n",
    "    return robots\n",
    "    \n",
    "\n",
    "\n",
    "def print_on_maze(robots, width, height, stepnum):\n",
    "    pos = defaultdict(int)\n",
    "    for xpos, ypos, _, _ in robots:\n",
    "        pos[(xpos, ypos)] += 1\n",
    "\n",
    "    image = np.zeros((height, width), dtype=np.uint8)\n",
    "    for ypos in range(height):\n",
    "        for xpos in range(width):\n",
    "            if pos[(xpos, ypos)] >= 1:\n",
    "                image[ypos, xpos] = 255\n",
    "\n",
    "    plt.imshow(image, cmap='gray')\n",
    "    plt.show()\n",
    "\n",
    "\n",
    "robots = get_robots(file)\n",
    "robots = simulate(robots, width, height)\n",
    "# print_on_maze(robots, width, height, 0)\n",
    "\n",
    "# Get the counts... Didn't bother to do anything smart here...\n",
    "left_top_count = 0 \n",
    "for xpos, ypos, _, _ in robots:\n",
    "    if xpos < width//2 and ypos < height//2:\n",
    "        left_top_count += 1\n",
    "right_top_count = 0\n",
    "for xpos, ypos, _, _ in robots:\n",
    "    if xpos > width//2 and ypos < height//2:\n",
    "        right_top_count += 1\n",
    "left_bottom_count = 0\n",
    "for xpos, ypos, _, _ in robots:\n",
    "    if xpos < width//2 and ypos > height//2:\n",
    "        left_bottom_count += 1\n",
    "right_bottom_count = 0\n",
    "for xpos, ypos, _, _ in robots:\n",
    "    if xpos > width//2 and ypos > height//2:\n",
    "        right_bottom_count += 1\n",
    "\n",
    "# print(left_top_count, right_top_count, left_bottom_count, right_bottom_count)\n",
    "print('Part 1, safety factor', left_top_count * right_top_count * left_bottom_count * right_bottom_count)\n",
    "\n",
    "robots = get_robots(file)\n",
    "for step in range(1, 100_000_000): \n",
    "    robots = simulate(robots, width, height, steps=1)\n",
    "    \n",
    "    if (step - 79) % 101 == 0 and (step - 22) % 103 == 0:\n",
    "        print(step)\n",
    "        print_on_maze(robots, width, height, step)\n",
    "        break"
   ]
  },
  {
   "cell_type": "code",
   "execution_count": null,
   "metadata": {},
   "outputs": [],
   "source": []
  }
 ],
 "metadata": {
  "kernelspec": {
   "display_name": "Python 3",
   "language": "python",
   "name": "python3"
  },
  "language_info": {
   "codemirror_mode": {
    "name": "ipython",
    "version": 3
   },
   "file_extension": ".py",
   "mimetype": "text/x-python",
   "name": "python",
   "nbconvert_exporter": "python",
   "pygments_lexer": "ipython3",
   "version": "3.11.5"
  }
 },
 "nbformat": 4,
 "nbformat_minor": 2
}
