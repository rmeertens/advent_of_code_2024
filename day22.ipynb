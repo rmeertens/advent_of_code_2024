{
 "cells": [
  {
   "cell_type": "code",
   "execution_count": null,
   "metadata": {},
   "outputs": [
    {
     "name": "stdout",
     "output_type": "stream",
     "text": [
      "part 1: 20411980517\n",
      "part 2: 2362\n"
     ]
    }
   ],
   "source": [
    "import tqdm\n",
    "from collections import defaultdict\n",
    "\n",
    "def get_next_value(secret_number): \n",
    "    secret_number = ((secret_number * 64) ^ secret_number) % 16777216\n",
    "    secret_number = ((secret_number // 32) ^ secret_number) % 16777216    \n",
    "    secret_number = ((secret_number * 2048) ^ secret_number) % 16777216\n",
    "    return secret_number\n",
    "\n",
    "total_secret_number = 0\n",
    "pattern_price_dict_list = list()\n",
    "prices_for_patterns = defaultdict(int)\n",
    "for line in open('inputs/day22.txt'): \n",
    "    secret_number = int(line.strip())\n",
    "    prev_bananas = secret_number % 10\n",
    "    deltas = list()\n",
    "    seen_patterns = set()\n",
    "\n",
    "    for _ in range(2000): \n",
    "        secret_number = get_next_value(secret_number)\n",
    "        num_bananas = secret_number % 10\n",
    "        deltas.append((num_bananas, num_bananas - prev_bananas))\n",
    "        prev_bananas = num_bananas\n",
    "        \n",
    "        if len(deltas) >= 4:\n",
    "            pattern = ','.join([str(x[1]) for x in deltas[-4::]])\n",
    "            if pattern not in seen_patterns: # only the first occurence counts!\n",
    "                seen_patterns.add(pattern)\n",
    "                prices_for_patterns[pattern] += num_bananas\n",
    "    total_secret_number += secret_number\n",
    "print('part 1:', total_secret_number)\n",
    "\n",
    "print('part 2:', max(prices_for_patterns.values()))"
   ]
  }
 ],
 "metadata": {
  "kernelspec": {
   "display_name": "base",
   "language": "python",
   "name": "python3"
  },
  "language_info": {
   "codemirror_mode": {
    "name": "ipython",
    "version": 3
   },
   "file_extension": ".py",
   "mimetype": "text/x-python",
   "name": "python",
   "nbconvert_exporter": "python",
   "pygments_lexer": "ipython3",
   "version": "3.11.5"
  }
 },
 "nbformat": 4,
 "nbformat_minor": 2
}
