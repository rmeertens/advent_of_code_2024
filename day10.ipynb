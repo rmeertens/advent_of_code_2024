{
 "cells": [
  {
   "cell_type": "code",
   "execution_count": null,
   "metadata": {},
   "outputs": [
    {
     "name": "stdout",
     "output_type": "stream",
     "text": [
      "Part 1: 694\n",
      "Part 2: 1497\n"
     ]
    }
   ],
   "source": [
    "maze = [[int(x) if x != '.' else -1 for x in line.strip()] for line in open('inputs/day10.txt')]\n",
    "directions = [(0, 1), (1, 0), (0, -1), (-1, 0)]\n",
    "\n",
    "def get_hiking_paths(position, number): \n",
    "    if number == 9 and maze[position[0]][position[1]] == 9:\n",
    "        # Reached the end of the hiking trail!\n",
    "        return 1, [position]\n",
    "    elif maze[position[0]][position[1]] != number:\n",
    "        # This is not the correct number, so no hiking trail here\n",
    "        return 0, []\n",
    "    else: \n",
    "        hiking_trails_here = 0\n",
    "        reachable_here = list()\n",
    "        for direction in directions:\n",
    "            new_position = (position[0] + direction[0], position[1] + direction[1])\n",
    "            if 0 <= new_position[0] < len(maze) and 0 <= new_position[1] < len(maze[0]):\n",
    "                num_trails, reachable = get_hiking_paths(new_position, number + 1)\n",
    "                reachable_here.extend(reachable)\n",
    "                hiking_trails_here += num_trails\n",
    "        return hiking_trails_here, set(reachable_here)\n",
    "\n",
    "part_1_sum = 0\n",
    "part_2_sum = 0 \n",
    "for y in range(len(maze)):\n",
    "    for x in range(len(maze[0])):\n",
    "        if maze[y][x] == 0:\n",
    "            num_trails, reachable = get_hiking_paths((y, x), 0)\n",
    "            part_1_sum += len(reachable)\n",
    "            part_2_sum += num_trails\n",
    "            \n",
    "print(\"Part 1:\", part_1_sum)\n",
    "print(\"Part 2:\", part_2_sum)"
   ]
  }
 ],
 "metadata": {
  "kernelspec": {
   "display_name": "Python 3",
   "language": "python",
   "name": "python3"
  },
  "language_info": {
   "codemirror_mode": {
    "name": "ipython",
    "version": 3
   },
   "file_extension": ".py",
   "mimetype": "text/x-python",
   "name": "python",
   "nbconvert_exporter": "python",
   "pygments_lexer": "ipython3",
   "version": "3.11.5"
  }
 },
 "nbformat": 4,
 "nbformat_minor": 2
}
