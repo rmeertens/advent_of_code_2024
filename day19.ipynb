{
 "cells": [
  {
   "cell_type": "code",
   "execution_count": 1,
   "metadata": {},
   "outputs": [
    {
     "name": "stdout",
     "output_type": "stream",
     "text": [
      "Part 1 272\n",
      "Part 2 1041529704688380\n"
     ]
    }
   ],
   "source": [
    "import functools\n",
    "\n",
    "text = open('inputs/day19.txt').read()\n",
    "towels, patterns = text.split('\\n\\n')\n",
    "towels = towels.split(', ')\n",
    "patterns = patterns.split('\\n')\n",
    "towels.sort(key=lambda x: len(x), reverse=True)\n",
    "\n",
    "@functools.cache\n",
    "def can_make(pattern, towels, depth=0): \n",
    "    total_ways = 0\n",
    "    for i, towel in enumerate(towels):\n",
    "        if pattern == towel: \n",
    "            total_ways += 1\n",
    "        if pattern.startswith(towel): \n",
    "            total_ways += can_make(pattern[len(towel):], towels, depth+1)\n",
    "    return total_ways\n",
    "\n",
    "total_can_make = 0\n",
    "total_ways_to_make = 0\n",
    "for pattern in patterns: \n",
    "    possible_towels = tuple([towel for towel in towels if towel in pattern])\n",
    "    ways_to_make = can_make(pattern, possible_towels)\n",
    "    \n",
    "    if ways_to_make: \n",
    "        total_can_make += 1\n",
    "    total_ways_to_make += ways_to_make\n",
    "\n",
    "print(\"Part 1\", total_can_make)\n",
    "print(\"Part 2\", total_ways_to_make)"
   ]
  },
  {
   "cell_type": "code",
   "execution_count": null,
   "metadata": {},
   "outputs": [
    {
     "name": "stdout",
     "output_type": "stream",
     "text": [
      "1041529704688380\n"
     ]
    }
   ],
   "source": []
  },
  {
   "cell_type": "code",
   "execution_count": null,
   "metadata": {},
   "outputs": [],
   "source": []
  }
 ],
 "metadata": {
  "kernelspec": {
   "display_name": "Python 3",
   "language": "python",
   "name": "python3"
  },
  "language_info": {
   "codemirror_mode": {
    "name": "ipython",
    "version": 3
   },
   "file_extension": ".py",
   "mimetype": "text/x-python",
   "name": "python",
   "nbconvert_exporter": "python",
   "pygments_lexer": "ipython3",
   "version": "3.11.5"
  }
 },
 "nbformat": 4,
 "nbformat_minor": 2
}
