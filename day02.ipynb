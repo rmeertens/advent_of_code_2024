{
 "cells": [
  {
   "cell_type": "code",
   "execution_count": 5,
   "id": "9f07ad7a-5033-488d-8784-0b032ce8fbba",
   "metadata": {},
   "outputs": [
    {
     "name": "stdout",
     "output_type": "stream",
     "text": [
      "False\n",
      "True True\n",
      "True\n",
      "False False\n"
     ]
    }
   ],
   "source": [
    "def is_safe(numbers): \n",
    "    # There has to be a sign to be valid\n",
    "    try:\n",
    "        sign = (numbers[1] - numbers[0]) / abs(numbers[1] - numbers[0])\n",
    "    except ZeroDivisionError: \n",
    "        return False\n",
    "    \n",
    "    for i in range(1, len(numbers)): \n",
    "        # The diff between numbers is at least one and at most three\n",
    "        if not 0 < abs(numbers[i] - numbers[i-1]) <= 3: \n",
    "            return False\n",
    "        \n",
    "        # Has the correct sign\n",
    "        sign_here = (numbers[i] - numbers[i-1]) / abs(numbers[i] - numbers[i-1])\n",
    "        if sign != sign_here: \n",
    "            return False        \n",
    "    return True\n",
    "\n",
    "def check_safe(input):\n",
    "        # check all inc or dec\n",
    "        is_decending = (input[1] < input[0])\n",
    "        print(is_decending)\n",
    "        for i in range(1, len(input)):\n",
    "            if (input[i] < input[i-1]) != is_decending:\n",
    "                return False\n",
    "            if abs(input[i] - input[i-1]) not in [1,2,3]:\n",
    "                return False\n",
    "        return True\n",
    "\n",
    "print(is_safe([1, 2, 3, 4, 5, 6, 7, 8, 9, 10]), check_safe([1, 2, 3, 4, 5, 6, 7, 8, 9, 10]))\n",
    "print(is_safe([1, 1, 2, 3, 4, 5, 6, 7, 8, 9, 10]), check_safe([1, 0, 2, 3, 4, 5, 6, 7, 8, 9, 10]))"
   ]
  },
  {
   "cell_type": "code",
   "execution_count": null,
   "id": "3abc6a8f",
   "metadata": {},
   "outputs": [],
   "source": []
  }
 ],
 "metadata": {
  "kernelspec": {
   "display_name": "Python 3",
   "language": "python",
   "name": "python3"
  },
  "language_info": {
   "codemirror_mode": {
    "name": "ipython",
    "version": 3
   },
   "file_extension": ".py",
   "mimetype": "text/x-python",
   "name": "python",
   "nbconvert_exporter": "python",
   "pygments_lexer": "ipython3",
   "version": "3.11.7"
  }
 },
 "nbformat": 4,
 "nbformat_minor": 5
}
