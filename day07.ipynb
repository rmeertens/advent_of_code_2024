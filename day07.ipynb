{
 "cells": [
  {
   "cell_type": "code",
   "execution_count": null,
   "metadata": {},
   "outputs": [],
   "source": []
  },
  {
   "cell_type": "code",
   "execution_count": 12,
   "metadata": {},
   "outputs": [
    {
     "name": "stdout",
     "output_type": "stream",
     "text": [
      "Answer: 7710205485870\n"
     ]
    }
   ],
   "source": [
    "lines = [line for line in open('inputs/day07.txt')]\n",
    "\n",
    "is_part_2 = False\n",
    "total_possible = 0\n",
    "for line in lines: \n",
    "    result, numbers = line.split(':')\n",
    "    numbers = [int(x) for x in numbers.split(' ') if x]\n",
    "    result = int(result)\n",
    "\n",
    "    attainable = [numbers[0]]\n",
    "    for i in range(1, len(numbers)):\n",
    "        new_attainable = set()\n",
    "        for a in attainable:\n",
    "            new_attainable.add(a + numbers[i])\n",
    "            new_attainable.add(a * numbers[i])\n",
    "            if is_part_2:\n",
    "                new_attainable.add(int(str(a) + str(numbers[i])))\n",
    "        attainable = new_attainable\n",
    "    if result in attainable: \n",
    "        total_possible += result\n",
    "print('Answer:', total_possible)"
   ]
  },
  {
   "cell_type": "code",
   "execution_count": null,
   "metadata": {},
   "outputs": [],
   "source": []
  }
 ],
 "metadata": {
  "kernelspec": {
   "display_name": "base",
   "language": "python",
   "name": "python3"
  },
  "language_info": {
   "codemirror_mode": {
    "name": "ipython",
    "version": 3
   },
   "file_extension": ".py",
   "mimetype": "text/x-python",
   "name": "python",
   "nbconvert_exporter": "python",
   "pygments_lexer": "ipython3",
   "version": "3.11.5"
  }
 },
 "nbformat": 4,
 "nbformat_minor": 2
}
