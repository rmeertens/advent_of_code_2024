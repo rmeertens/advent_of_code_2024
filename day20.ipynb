{
 "cells": [
  {
   "cell_type": "code",
   "execution_count": null,
   "metadata": {},
   "outputs": [
    {
     "name": "stderr",
     "output_type": "stream",
     "text": [
      "100%|█████████▉| 88670472/88679889 [00:10<00:00, 8787165.84it/s]\n"
     ]
    },
    {
     "name": "stdout",
     "output_type": "stream",
     "text": [
      "for cheating distance 2 1369\n"
     ]
    },
    {
     "name": "stderr",
     "output_type": "stream",
     "text": [
      "100%|█████████▉| 88670472/88679889 [00:10<00:00, 8618940.60it/s]"
     ]
    },
    {
     "name": "stdout",
     "output_type": "stream",
     "text": [
      "for cheating distance 20 979012\n"
     ]
    },
    {
     "name": "stderr",
     "output_type": "stream",
     "text": [
      "\n"
     ]
    }
   ],
   "source": [
    "from collections import defaultdict\n",
    "import tqdm\n",
    "from itertools import permutations\n",
    "\n",
    "def get_maze(input_file): \n",
    "    maze = open(input_file).readlines()\n",
    "    obstacles = set()\n",
    "    open_spots = set()\n",
    "    for y, line in enumerate(maze): \n",
    "        line = line.strip()\n",
    "        for x, c in enumerate(line):\n",
    "            if c == '#':\n",
    "                obstacles.add((x, y))\n",
    "            elif c == 'S':\n",
    "                start_pos = (x, y)\n",
    "                open_spots.add((x, y))\n",
    "            elif c == 'E':\n",
    "                end_pos = (x, y)\n",
    "                open_spots.add((x, y))\n",
    "            else: \n",
    "                open_spots.add((x, y))\n",
    "    return open_spots, start_pos, end_pos\n",
    "\n",
    "def flood_fill(origin_position, passable_spots): \n",
    "    to_expand = [origin_position]\n",
    "    distance_to_origin = defaultdict(lambda: 10e100)\n",
    "    distance_to_origin[origin_position] = 0\n",
    "    while to_expand: \n",
    "        current = to_expand.pop(0)\n",
    "        for direction in directions: \n",
    "            new = (current[0] + direction[0], current[1] + direction[1])\n",
    "            if new in passable_spots and distance_to_origin[new] > distance_to_origin[current] + 1: \n",
    "                distance_to_origin[new] = distance_to_origin[current] + 1\n",
    "                to_expand.append(new)\n",
    "    return distance_to_origin\n",
    "\n",
    "input_file = 'inputs/day20.txt'\n",
    "directions = [(0,1), (0,-1), (1,0), (-1,0)]\n",
    "open_spots, start_pos, end_pos = get_maze(input_file)\n",
    "\n",
    "# Get the distance from the start, and the distance from the finish. \n",
    "dist_form_start_filled = flood_fill(start_pos, open_spots)\n",
    "dist_form_end_filled = flood_fill(end_pos, open_spots)\n",
    "original_distance = dist_form_end_filled[start_pos]\n",
    "\n",
    "def find_faster_routes(max_cheat_distance, meaningful_cheat = 100): \n",
    "    total_can_faster = 0\n",
    "    for cheat_start, cheat_end in tqdm.tqdm(permutations(open_spots, 2), total=len(open_spots)*len(open_spots)): \n",
    "        cheat_distance = abs(cheat_start[0] - cheat_end[0]) + abs(cheat_start[1] - cheat_end[1])\n",
    "        if cheat_distance <= max_cheat_distance: \n",
    "            total_distance = dist_form_start_filled[cheat_start] + dist_form_end_filled[cheat_end] + cheat_distance\n",
    "            if total_distance <= (original_distance - meaningful_cheat): \n",
    "                total_can_faster += 1\n",
    "    return total_can_faster\n",
    "\n",
    "print(\"Part 1:\", find_faster_routes(2))\n",
    "print(\"Part 2:\", find_faster_routes(20))"
   ]
  },
  {
   "cell_type": "code",
   "execution_count": null,
   "metadata": {},
   "outputs": [
    {
     "name": "stdout",
     "output_type": "stream",
     "text": [
      "9416\n"
     ]
    }
   ],
   "source": [
    "\n",
    "\n",
    "\n",
    "\n",
    "\n",
    "# def a_star_search(start, end, passable_spots): \n",
    "#     to_expand = [(0, 0, start)] # (f+h, distance, node)\n",
    "#     expanded = set()\n",
    "\n",
    "#     while to_expand:\n",
    "#         to_expand.sort()\n",
    "#         _, distance, current = to_expand.pop(0)\n",
    "\n",
    "#         if current == end:\n",
    "#             return distance\n",
    "        \n",
    "#         if current in expanded:\n",
    "#             continue\n",
    "        \n",
    "#         expanded.add(current)\n",
    "#         for direction in directions:\n",
    "#             new = (current[0] + direction[0], current[1] + direction[1])\n",
    "#             # if 0 <= new[0] < maze_width and 0 <= new[1] < maze_height and new not in expanded:\n",
    "#             if new not in expanded:\n",
    "#                 if not new in passable_spots:\n",
    "#                     continue\n",
    "#                 to_expand.append((distance+1+abs(new[0]-end[0])+abs(new[1]-end[1]), distance+1, new))\n",
    "#     return None\n",
    "\n",
    "# num_high_value_cheats = 0\n",
    "\n",
    "# original_distance = a_star_search(start_pos, end_pos, open_spots)\n",
    "# print(original_distance)\n",
    "\n",
    "\n",
    "# for obstacle in tqdm.tqdm(obstacles):\n",
    "#     cheating_set = open_spots.copy()\n",
    "#     cheating_set.add(obstacle)\n",
    "#     new_distance = a_star_search(start_pos, end_pos, cheating_set)\n",
    "#     # print(new_distance)\n",
    "#     if new_distance and new_distance < original_distance:\n",
    "#         # print(new_distance, 'saved', original_distance - new_distance)\n",
    "\n",
    "#         saved = original_distance - new_distance\n",
    "#         if saved >= 100:\n",
    "#             num_high_value_cheats += 1\n",
    "# print(\"Part 1\", num_high_value_cheats)\n",
    "    \n"
   ]
  },
  {
   "cell_type": "code",
   "execution_count": 3,
   "metadata": {},
   "outputs": [],
   "source": [
    "# Gedachten deel 2: \n",
    "# - Je kan een zoek functie maken die alleen maar door de obstakels heen gaat\n",
    "# - Per open deel kan je opslaan hoe ver het is naar het einde zodat je dat niet meer uit hoeft te rekenen... \n",
    "# - Lengte pad = open-deel S -> A, gesloten A -> B, open B->E\n",
    "# Paden moeten sowieso kleiner zijn dan lengte (S -> E) - 100, anders kunnen ze niets besparen\n",
    "# Dus als (S -> A + B -> C) < (S -> E - 100) dan mag je uitrekenen wat A -> B door gesloten is... \n",
    "# Waarbij A -> B max 20 mag zijn... \n",
    "\n",
    "# distances_to_end = defaultdict(lambda: 10e100) # [pos1] = distance_between_pos1_pos2\n",
    "# distances_from_start = defaultdict(lambda: 10e100) # [pos1] = distance_between_pos1_pos2\n",
    "\n",
    "# for position in tqdm.tqdm(open_spots): \n",
    "#     distance_to_end = a_star_search(position, end_pos, open_spots)\n",
    "#     distances_to_end[position] = distance_to_end\n",
    "#     distance_from_start = a_star_search(start_pos, position, open_spots)\n",
    "#     distances_from_start[position] = distance_from_start"
   ]
  },
  {
   "cell_type": "code",
   "execution_count": 4,
   "metadata": {},
   "outputs": [],
   "source": [
    "# len(open_spots)*len(open_spots)"
   ]
  },
  {
   "cell_type": "code",
   "execution_count": null,
   "metadata": {},
   "outputs": [
    {
     "name": "stderr",
     "output_type": "stream",
     "text": [
      "100%|█████████▉| 88670472/88679889 [00:09<00:00, 9533474.21it/s] \n"
     ]
    },
    {
     "name": "stdout",
     "output_type": "stream",
     "text": [
      "for cheating distance 2 1369\n"
     ]
    },
    {
     "name": "stderr",
     "output_type": "stream",
     "text": [
      "100%|█████████▉| 88670472/88679889 [00:10<00:00, 8681876.85it/s]"
     ]
    },
    {
     "name": "stdout",
     "output_type": "stream",
     "text": [
      "for cheating distance 20 979012\n"
     ]
    },
    {
     "name": "stderr",
     "output_type": "stream",
     "text": [
      "\n"
     ]
    }
   ],
   "source": []
  },
  {
   "cell_type": "code",
   "execution_count": null,
   "metadata": {},
   "outputs": [],
   "source": []
  },
  {
   "cell_type": "code",
   "execution_count": null,
   "metadata": {},
   "outputs": [
    {
     "name": "stderr",
     "output_type": "stream",
     "text": [
      "100%|█████████▉| 88670472/88679889 [00:14<00:00, 6292832.97it/s]"
     ]
    },
    {
     "name": "stdout",
     "output_type": "stream",
     "text": [
      "979012\n"
     ]
    },
    {
     "name": "stderr",
     "output_type": "stream",
     "text": [
      "\n"
     ]
    }
   ],
   "source": [
    "# from itertools import permutations\n",
    "# total_can_faster = 0\n",
    "# for cheat_start, cheat_end in tqdm.tqdm(permutations(open_spots, 2), total=len(open_spots)*len(open_spots)): \n",
    "#     cheat_distance = abs(cheat_start[0] - cheat_end[0]) + abs(cheat_start[1] - cheat_end[1])\n",
    "#     if cheat_distance <= 20: \n",
    "#         total_distance = dist_form_start_filled[cheat_start] + dist_form_end_filled[cheat_end] + cheat_distance\n",
    "\n",
    "#         if total_distance <= (original_distance - 100): \n",
    "#             total_can_faster += 1\n",
    "# print(total_can_faster)"
   ]
  },
  {
   "cell_type": "code",
   "execution_count": null,
   "metadata": {},
   "outputs": [],
   "source": []
  }
 ],
 "metadata": {
  "kernelspec": {
   "display_name": "base",
   "language": "python",
   "name": "python3"
  },
  "language_info": {
   "codemirror_mode": {
    "name": "ipython",
    "version": 3
   },
   "file_extension": ".py",
   "mimetype": "text/x-python",
   "name": "python",
   "nbconvert_exporter": "python",
   "pygments_lexer": "ipython3",
   "version": "3.11.5"
  }
 },
 "nbformat": 4,
 "nbformat_minor": 2
}
