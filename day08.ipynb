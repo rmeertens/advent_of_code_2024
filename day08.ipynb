{
 "cells": [
  {
   "cell_type": "code",
   "execution_count": 27,
   "metadata": {},
   "outputs": [
    {
     "name": "stdout",
     "output_type": "stream",
     "text": [
      "Part 1 299\n",
      "Part 2 1032\n"
     ]
    }
   ],
   "source": [
    "from itertools import combinations\n",
    "maze = [line.strip() for line in open('inputs/day08.txt')]\n",
    "\n",
    "unique_antennas = set([x for x in ''.join(maze) if x not in '.#'])\n",
    "\n",
    "def get_locations(character, maze):\n",
    "    return [(i, j) for i in range(len(maze)) for j in range(len(maze[i])) if maze[i][j] == character]\n",
    "\n",
    "antinode_locations = set()\n",
    "\n",
    "# Part 1: \n",
    "# For each pair of antennas, calculate the delta x and delta y between them\n",
    "# Then figure out for each delta_x and delta_y how the antennas should be placed\n",
    "# If the antennas are placed outside the maze, ignore them\n",
    "for character in unique_antennas: \n",
    "    locations = get_locations(character, maze)\n",
    "    \n",
    "    # print(character, locations)\n",
    "    for pos1, pos2 in combinations(locations, 2): \n",
    "        delta_y = abs(pos2[0] - pos1[0])\n",
    "        delta_x = abs(pos2[1] - pos1[1])\n",
    "\n",
    "        if delta_x == 0 or delta_y == 0: \n",
    "            raise ValueError('Antennas are not diagonal to each other which makes this puzzle easier')\n",
    "\n",
    "        # Add delta_x to the rightmost antenna and subtract from the leftmost antenna\n",
    "        # Add delta_y to the topmost antenna and subtract from the botommost antenna    \n",
    "        if pos1[0] >= pos2[0]: \n",
    "            antenna1_y = pos1[0] + delta_y\n",
    "            antenna2_y = pos2[0] - delta_y\n",
    "        else:\n",
    "            antenna1_y = pos1[0] - delta_y\n",
    "            antenna2_y = pos2[0] + delta_y\n",
    "        \n",
    "        if pos1[1] >= pos2[1]:\n",
    "            antenna1_x = pos1[1] + delta_x\n",
    "            antenna2_x = pos2[1] - delta_x\n",
    "        else:\n",
    "            antenna1_x = pos1[1] - delta_x\n",
    "            antenna2_x = pos2[1] + delta_x\n",
    "        \n",
    "        if 0 <= antenna1_y < len(maze) and 0 <= antenna1_x < len(maze[0]): \n",
    "            # print('Antenna 1:', antenna1_x, antenna1_y)\n",
    "            antinode_locations.add((antenna1_x, antenna1_y))\n",
    "        if 0 <= antenna2_y < len(maze) and 0 <= antenna2_x < len(maze[0]): \n",
    "            # print('Antenna 2:', antenna2_x, antenna2_y)\n",
    "            antinode_locations.add((antenna2_x, antenna2_y))\n",
    "\n",
    "print('Part 1', len(antinode_locations))\n",
    "\n",
    "# Part 2: \n",
    "# Instead of knowing the exact location we can create a function that interpolates between the two antennas\n",
    "# and checks if the location is inside our map. \n",
    "# Note that this only works if the antennas are diagonal to each other.\n",
    "antinode_locations = set()\n",
    "for character in unique_antennas: \n",
    "    locations = get_locations(character, maze)\n",
    "    \n",
    "    for pos1, pos2 in combinations(locations, 2): \n",
    "        delta_y = abs(pos2[0] - pos1[0])\n",
    "        delta_x = abs(pos2[1] - pos1[1])\n",
    "\n",
    "        if delta_x == 0 or delta_y == 0: \n",
    "            raise ValueError('Antennas are not diagonal to each other which makes this puzzle easier')\n",
    "\n",
    "        for x in range(0, len(maze[0])): \n",
    "            # Interpolate between the numbers \n",
    "            location_y = pos1[0] + (pos2[0] - pos1[0]) * (x - pos1[1]) / (pos2[1] - pos1[1])\n",
    "            if location_y.is_integer(): \n",
    "                if 0 <= location_y < len(maze):\n",
    "                    antinode_locations.add((x, int(location_y)))\n",
    "\n",
    "print('Part 2', len(antinode_locations))            "
   ]
  }
 ],
 "metadata": {
  "kernelspec": {
   "display_name": "base",
   "language": "python",
   "name": "python3"
  },
  "language_info": {
   "codemirror_mode": {
    "name": "ipython",
    "version": 3
   },
   "file_extension": ".py",
   "mimetype": "text/x-python",
   "name": "python",
   "nbconvert_exporter": "python",
   "pygments_lexer": "ipython3",
   "version": "3.11.5"
  }
 },
 "nbformat": 4,
 "nbformat_minor": 2
}
