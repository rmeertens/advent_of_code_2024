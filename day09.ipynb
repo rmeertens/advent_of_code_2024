{
 "cells": [
  {
   "cell_type": "code",
   "execution_count": null,
   "metadata": {},
   "outputs": [],
   "source": []
  },
  {
   "cell_type": "code",
   "execution_count": 39,
   "metadata": {},
   "outputs": [
    {
     "name": "stdout",
     "output_type": "stream",
     "text": [
      "Part 1: 6330095022244\n",
      "Part 2: 6359491814941\n"
     ]
    }
   ],
   "source": [
    "input_string = open('inputs/day09.txt').read().strip()\n",
    "\n",
    "#########\n",
    "# PART 1\n",
    "# For part 1 I took the approach of having a list entry for each block on the disk, \n",
    "# and then moving each element individually. This works pretty well as long as you pop the last element of the list. \n",
    "def expand_disk_map(input): \n",
    "    disk_map = []\n",
    "    file_id = 0 \n",
    "    while len(input) >= 2: \n",
    "        file_length, free_space = input[:2]\n",
    "        disk_map.extend([file_id] * int(file_length))\n",
    "        disk_map.extend([-1] * int(free_space))\n",
    "        input = input[2:]\n",
    "        file_id += 1\n",
    "    disk_map.extend([file_id] * int(input))\n",
    "    return disk_map\n",
    "\n",
    "def defragment(disk_map): \n",
    "    index = 0 \n",
    "    while index < len(disk_map):\n",
    "        if disk_map[index] == -1: \n",
    "            disk_map[index] = disk_map[-1]\n",
    "            disk_map.pop(-1) # Note: popping is way faster than using disk_map = disk_map[:-1]\n",
    "        else: \n",
    "            index += 1\n",
    "    return disk_map\n",
    "\n",
    "def check_sum(disk_map): \n",
    "    total = 0 \n",
    "    for i in range(len(disk_map)): \n",
    "        total += disk_map[i] * i\n",
    "    return total\n",
    "\n",
    "disk_map = expand_disk_map(input_string)\n",
    "disk_map = defragment(disk_map)\n",
    "total = check_sum(disk_map)\n",
    "print('Part 1:', total)\n",
    "\n",
    "#########\n",
    "# PART 2\n",
    "# For part 2 I needed to re-implement all functions to work with tuples instead of individual elements\n",
    "# The logic took some time to grasp, but seems to work now. \n",
    "def expand_disk_map_p2(input): \n",
    "    disk_map = list()\n",
    "    file_id = 0\n",
    "    while len(input) >= 2: \n",
    "        file_length, free_space = input[:2]\n",
    "        disk_map.append((file_id, int(file_length)))\n",
    "        disk_map.append((-1, int(free_space)))\n",
    "        input = input[2:]\n",
    "        file_id += 1\n",
    "    disk_map.append((file_id, int(input)))\n",
    "    return disk_map\n",
    "\n",
    "def disk_map_to_string(disk_map):\n",
    "    return ''.join([str(x[0]) * x[1] if x[0] >= 0 else '.' * x[1] for x in disk_map])\n",
    "\n",
    "def check_sum_p2(disk_map):\n",
    "    total = 0\n",
    "    list_representation = list()\n",
    "    for x in disk_map: \n",
    "        if x[0] > 0: \n",
    "            list_representation.extend([x[0]] * x[1])\n",
    "        else:\n",
    "            list_representation.extend([0] * x[1])\n",
    "    for i in range(len(list_representation)): \n",
    "        total += list_representation[i] * i\n",
    "    return total\n",
    "\n",
    "def defragment_p2(disk_map): \n",
    "    to_relocate = len(disk_map)-1\n",
    "\n",
    "    while to_relocate > 0:\n",
    "        relocating = disk_map[to_relocate]\n",
    "        if relocating[0] == -1:\n",
    "            to_relocate -= 1\n",
    "            continue\n",
    "        \n",
    "        for i in range(to_relocate):\n",
    "            if disk_map[i][0] == -1 and disk_map[i][1] >= relocating[1]:\n",
    "                disk_map[to_relocate] = (-1, relocating[1])\n",
    "                remaining_space = disk_map[i][1] - relocating[1]\n",
    "                if remaining_space > 0:\n",
    "                    disk_map.insert(i+1, (-1, remaining_space))\n",
    "                disk_map[i] = relocating\n",
    "                break\n",
    "\n",
    "        to_relocate -= 1\n",
    "        \n",
    "    return disk_map\n",
    "\n",
    "disk_map = expand_disk_map_p2(input_string)\n",
    "disk_map = defragment_p2(disk_map)\n",
    "print('Part 2:', check_sum_p2(disk_map))\n",
    "\n"
   ]
  },
  {
   "cell_type": "code",
   "execution_count": null,
   "metadata": {},
   "outputs": [
    {
     "name": "stdout",
     "output_type": "stream",
     "text": [
      "6359491814941\n"
     ]
    }
   ],
   "source": []
  },
  {
   "cell_type": "code",
   "execution_count": 23,
   "metadata": {},
   "outputs": [
    {
     "data": {
      "text/plain": [
       "'0011177744.2..99.5555.6666..8888'"
      ]
     },
     "execution_count": 23,
     "metadata": {},
     "output_type": "execute_result"
    }
   ],
   "source": [
    "disk_map_to_string(disk_map)"
   ]
  },
  {
   "cell_type": "code",
   "execution_count": 17,
   "metadata": {},
   "outputs": [
    {
     "data": {
      "text/plain": [
       "[(0, 2),\n",
       " (9, 2),\n",
       " (1, 3),\n",
       " (7, 3),\n",
       " (4, 2),\n",
       " (2, 1),\n",
       " (3, 3),\n",
       " (4, 2),\n",
       " (-1, 1),\n",
       " (5, 4),\n",
       " (-1, 1),\n",
       " (6, 4),\n",
       " (-1, 1),\n",
       " (-1, 1),\n",
       " (8, 4),\n",
       " (9, 2)]"
      ]
     },
     "execution_count": 17,
     "metadata": {},
     "output_type": "execute_result"
    }
   ],
   "source": [
    "disk_map"
   ]
  },
  {
   "cell_type": "code",
   "execution_count": null,
   "metadata": {},
   "outputs": [],
   "source": []
  }
 ],
 "metadata": {
  "kernelspec": {
   "display_name": "Python 3",
   "language": "python",
   "name": "python3"
  },
  "language_info": {
   "codemirror_mode": {
    "name": "ipython",
    "version": 3
   },
   "file_extension": ".py",
   "mimetype": "text/x-python",
   "name": "python",
   "nbconvert_exporter": "python",
   "pygments_lexer": "ipython3",
   "version": "3.11.5"
  }
 },
 "nbformat": 4,
 "nbformat_minor": 2
}
