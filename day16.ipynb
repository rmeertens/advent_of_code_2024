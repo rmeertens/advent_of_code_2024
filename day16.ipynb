{
 "cells": [
  {
   "cell_type": "code",
   "execution_count": 1,
   "metadata": {},
   "outputs": [
    {
     "name": "stdout",
     "output_type": "stream",
     "text": [
      "Part 1 98484\n",
      "Part 2 531\n"
     ]
    }
   ],
   "source": [
    "from collections import defaultdict\n",
    "import heapq\n",
    "\n",
    "maze = [x.strip() for x in open('inputs/day16.txt').readlines()]\n",
    "\n",
    "directions = [(1, 0), # East, (x, y)\n",
    "              (0, 1), # South\n",
    "              (-1, 0), # West\n",
    "              (0, -1)] # North\n",
    "\n",
    "start_position = None\n",
    "end_position = None\n",
    "walls = set()\n",
    "for y, row in enumerate(maze):\n",
    "    for x, cell in enumerate(row):\n",
    "        if cell == 'S':\n",
    "            start_position = (x, y, 0) # starting towards the east\n",
    "        if cell == 'E':\n",
    "            end_position = (x, y)\n",
    "        elif cell == '#':\n",
    "            walls.add((x, y))\n",
    "\n",
    "\n",
    "\n",
    "def a_star_search(start_position, end_position, walls): \n",
    "    open_list = [(0, 0, start_position, list())] # (distance+heuristic, distance, position, visited)\n",
    "    expanded = defaultdict(lambda: 10e9)\n",
    "    min_distance = 10e9\n",
    "\n",
    "    while open_list:\n",
    "        _, distance, position, visited = heapq.heappop(open_list)\n",
    "    \n",
    "        if distance > expanded[position]:\n",
    "            continue\n",
    "\n",
    "        if position[0:2] == end_position:\n",
    "            if distance <= min_distance:\n",
    "                min_distance = distance\n",
    "                yield distance, visited + [position]\n",
    "\n",
    "        expanded[position] = distance\n",
    "\n",
    "        options = list()\n",
    "        options.append(((position[0], position[1], (position[2] + 1) % 4), 1000)) # turn right\n",
    "        options.append(((position[0], position[1], (position[2] - 1) % 4), 1000)) # turn left\n",
    "        options.append(((position[0] + directions[position[2]][0], position[1] + directions[position[2]][1], position[2]), 1)) # move forward\n",
    "\n",
    "        for option, cost in options:\n",
    "            if option[0:2] in walls:\n",
    "                continue\n",
    "            \n",
    "            expected_distance = abs(option[0] - end_position[0]) + abs(option[1] - end_position[1])\n",
    "            heapq.heappush(open_list, (distance + expected_distance, distance + cost, option, visited + [position]))\n",
    "        \n",
    "     \n",
    "unique_tiles = set()     \n",
    "for distance, visited in a_star_search(start_position, end_position, walls):\n",
    "    for position in visited:\n",
    "        unique_tiles.add(position[0:2])\n",
    "\n",
    "print('Part 1', distance)\n",
    "print('Part 2', len(unique_tiles))\n"
   ]
  },
  {
   "cell_type": "code",
   "execution_count": null,
   "metadata": {},
   "outputs": [],
   "source": []
  },
  {
   "cell_type": "code",
   "execution_count": null,
   "metadata": {},
   "outputs": [],
   "source": []
  }
 ],
 "metadata": {
  "kernelspec": {
   "display_name": "Python 3",
   "language": "python",
   "name": "python3"
  },
  "language_info": {
   "codemirror_mode": {
    "name": "ipython",
    "version": 3
   },
   "file_extension": ".py",
   "mimetype": "text/x-python",
   "name": "python",
   "nbconvert_exporter": "python",
   "pygments_lexer": "ipython3",
   "version": "3.11.5"
  }
 },
 "nbformat": 4,
 "nbformat_minor": 2
}
