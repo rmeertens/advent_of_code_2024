{
 "cells": [
  {
   "cell_type": "code",
   "execution_count": 1,
   "metadata": {},
   "outputs": [
    {
     "name": "stdout",
     "output_type": "stream",
     "text": [
      "Part 1 157621318\n",
      "part 2 79845780\n"
     ]
    }
   ],
   "source": [
    "import re\n",
    "\n",
    "input_string = open('inputs/day03.txt').read().strip()\n",
    "\n",
    "regex = re.compile(r'mul\\((\\d+),(\\d+)\\)')\n",
    "multiplication_matches = regex.findall(input_string)\n",
    "multiplication_match_locations = [m.start() for m in regex.finditer(input_string)]\n",
    "\n",
    "total_multiplications = 0 \n",
    "for a, b in multiplication_matches: \n",
    "    if 1 <= len(a) <= 3 and 1 <= len(b) <= 3: # doesn't seem to be a hard requirement...\n",
    "        total_multiplications += int(a) * int(b)\n",
    "print('Part 1', total_multiplications)\n",
    "\n",
    "# Find all cases of do()\n",
    "regex = re.compile(r'do\\(\\)')\n",
    "do_matches = regex.findall(input_string)\n",
    "do_indices = [m.start() for m in regex.finditer(input_string)]\n",
    "\n",
    "# find all cases of don't()\n",
    "regex = re.compile(r\"don't\\(\\)\")\n",
    "dont_matches = regex.findall(input_string)\n",
    "dont_indices = [m.start() for m in regex.finditer(input_string)]\n",
    "\n",
    "# Merge all numbers together in one large list and sort them by their location\n",
    "all_together = list()\n",
    "all_together.extend([(location, match) for location, match in zip(multiplication_match_locations, multiplication_matches)])\n",
    "all_together.extend([(location, match) for location, match in zip(do_indices, do_matches)])\n",
    "all_together.extend([(location, match) for location, match in zip(dont_indices, dont_matches)])\n",
    "all_together.sort()\n",
    "\n",
    "# Iterate over the list and keep track of whether we should multiply or not\n",
    "should_multiply = True\n",
    "total_multiplications = 0\n",
    "for location, match in all_together:\n",
    "    if type(match) == str:\n",
    "        if match.startswith(\"do(\"): \n",
    "            should_multiply = True\n",
    "        elif match.startswith(\"don't(\"):\n",
    "            should_multiply = False\n",
    "    else:\n",
    "        a, b = match\n",
    "        if should_multiply:\n",
    "            total_multiplications += int(a) * int(b)\n",
    "print('part 2', total_multiplications)"
   ]
  },
  {
   "cell_type": "code",
   "execution_count": null,
   "metadata": {},
   "outputs": [],
   "source": []
  },
  {
   "cell_type": "code",
   "execution_count": null,
   "metadata": {},
   "outputs": [],
   "source": []
  },
  {
   "cell_type": "code",
   "execution_count": null,
   "metadata": {},
   "outputs": [],
   "source": []
  },
  {
   "cell_type": "code",
   "execution_count": null,
   "metadata": {},
   "outputs": [],
   "source": []
  },
  {
   "cell_type": "code",
   "execution_count": null,
   "metadata": {},
   "outputs": [],
   "source": []
  }
 ],
 "metadata": {
  "kernelspec": {
   "display_name": "Python 3",
   "language": "python",
   "name": "python3"
  },
  "language_info": {
   "codemirror_mode": {
    "name": "ipython",
    "version": 3
   },
   "file_extension": ".py",
   "mimetype": "text/x-python",
   "name": "python",
   "nbconvert_exporter": "python",
   "pygments_lexer": "ipython3",
   "version": "3.11.7"
  }
 },
 "nbformat": 4,
 "nbformat_minor": 2
}
