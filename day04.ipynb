{
 "cells": [
  {
   "cell_type": "code",
   "execution_count": 1,
   "metadata": {},
   "outputs": [
    {
     "name": "stdout",
     "output_type": "stream",
     "text": [
      "Part 1: 2406\n",
      "Part 2: 1807\n"
     ]
    }
   ],
   "source": [
    "\n",
    "puzzle = [x.strip() for x in open(\"inputs/day04.txt\").readlines()]\n",
    "\n",
    "HORIZONTAL_DELTAS = [(0, 1), (0, -1), (1, 0), (-1, 0)]\n",
    "DIAGONAL_DELTAS = [(1, 1), (-1, -1), (1, -1), (-1, 1)]\n",
    "deltas = HORIZONTAL_DELTAS + DIAGONAL_DELTAS\n",
    "\n",
    "total_christmas = 0\n",
    "for y in range(len(puzzle)):\n",
    "    for x in range(len(puzzle[0])):\n",
    "        if puzzle[y][x] == \"X\":\n",
    "            strings_here = list()\n",
    "            for dx, dy in deltas:\n",
    "                string = \"\"\n",
    "                for i in range(len(\"XMAS\")):\n",
    "                    index_y = y+dy*i\n",
    "                    index_x = x+dx*i\n",
    "                    if 0 <= index_y < len(puzzle) and 0 <= index_x < len(puzzle[0]):\n",
    "                        string += puzzle[y+dy*i][x+dx*i]\n",
    "                strings_here.append(string)\n",
    "            total_christmas += strings_here.count(\"XMAS\")\n",
    "print(\"Part 1:\", total_christmas)\n",
    "\n",
    "deltas = [(1, 1), (-1, -1), (1, -1), (-1, 1)]\n",
    "total_xmasses = 0\n",
    "for y in range(len(puzzle)):\n",
    "    for x in range(len(puzzle[0])):\n",
    "        if puzzle[y][x] == \"A\":\n",
    "            strings_here = list()\n",
    "            for dx, dy in deltas:\n",
    "                string = \"\"\n",
    "                for i in range(-1, 2):\n",
    "                    index_y = y+dy*i\n",
    "                    index_x = x+dx*i\n",
    "                    if 0 <= index_y < len(puzzle) and 0 <= index_x < len(puzzle[0]):\n",
    "                        string += puzzle[index_y][index_x]\n",
    "                strings_here.append(string)\n",
    "            if strings_here.count(\"MAS\") >= 2:\n",
    "                total_xmasses += 1\n",
    "print(\"Part 2:\", total_xmasses)            "
   ]
  },
  {
   "cell_type": "code",
   "execution_count": null,
   "metadata": {},
   "outputs": [],
   "source": []
  }
 ],
 "metadata": {
  "kernelspec": {
   "display_name": "base",
   "language": "python",
   "name": "python3"
  },
  "language_info": {
   "codemirror_mode": {
    "name": "ipython",
    "version": 3
   },
   "file_extension": ".py",
   "mimetype": "text/x-python",
   "name": "python",
   "nbconvert_exporter": "python",
   "pygments_lexer": "ipython3",
   "version": "3.11.5"
  }
 },
 "nbformat": 4,
 "nbformat_minor": 2
}
