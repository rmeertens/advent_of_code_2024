{
 "cells": [
  {
   "cell_type": "code",
   "execution_count": null,
   "metadata": {},
   "outputs": [
    {
     "name": "stdout",
     "output_type": "stream",
     "text": [
      "Part 1: 4776\n",
      "part 2: 1586\n"
     ]
    }
   ],
   "source": [
    "lines = [l.strip() for l in open('inputs/day06.txt').readlines()]\n",
    "\n",
    "# Get the location of the guard as the start location\n",
    "start_location = None\n",
    "for y, line in enumerate(lines):\n",
    "    for x, c in enumerate(line):\n",
    "        if c == '^':\n",
    "            start_location = (x, y)\n",
    "            break\n",
    "    if start_location:\n",
    "        break\n",
    "\n",
    "directions = [(0, -1), # up\n",
    "              (1, 0), # right\n",
    "              (0, 1), # down\n",
    "              (-1, 0) # left\n",
    "              ]\n",
    "\n",
    "# Part 1: simply keep following the path till the guard is out of the grid\n",
    "current_direction = 0\n",
    "location_guard = start_location\n",
    "visited_locations = set([location_guard])\n",
    "while True: \n",
    "    next_location = (location_guard[0] + directions[current_direction][0], location_guard[1] + directions[current_direction][1])\n",
    "    visited_locations.add(location_guard)\n",
    "    \n",
    "    if next_location[0] < 0 or next_location[0] >= len(lines[0]) or next_location[1] < 0 or next_location[1] >= len(lines):\n",
    "        break\n",
    "    \n",
    "    if lines[next_location[1]][next_location[0]] == '#':\n",
    "        current_direction = (current_direction + 1) % 4\n",
    "    else:\n",
    "        location_guard = next_location\n",
    "\n",
    "print(f'Part 1: {len(visited_locations)}')\n",
    "\n",
    "def gets_stuck(lines, location_guard):\n",
    "    current_direction = 0\n",
    "    \n",
    "    visited_locations = set()\n",
    "    \n",
    "    while True:\n",
    "        if (location_guard[0], location_guard[1], current_direction) in visited_locations:\n",
    "            return True\n",
    "        visited_locations.add((location_guard[0], location_guard[1], current_direction))\n",
    "\n",
    "        next_location = (location_guard[0] + directions[current_direction][0], location_guard[1] + directions[current_direction][1])\n",
    "        if next_location[0] < 0 or next_location[0] >= len(lines[0]) or next_location[1] < 0 or next_location[1] >= len(lines):\n",
    "            return False\n",
    "        \n",
    "        if lines[next_location[1]][next_location[0]] == '#':\n",
    "            current_direction = (current_direction + 1) % 4\n",
    "        else:\n",
    "            location_guard = next_location\n",
    "\n",
    "total_stuck = 0\n",
    "for y in range(len(lines)):\n",
    "    for x in range(len(lines[0])):\n",
    "        if lines[y][x] != '^':\n",
    "            # Add a wall at this location\n",
    "            new_lines = lines.copy()\n",
    "            new_lines[y] = new_lines[y][:x] + '#' + new_lines[y][x+1:]\n",
    "\n",
    "            if gets_stuck(new_lines, start_location):\n",
    "                total_stuck += 1\n",
    "print('part 2:', total_stuck)\n",
    "\n"
   ]
  }
 ],
 "metadata": {
  "kernelspec": {
   "display_name": "base",
   "language": "python",
   "name": "python3"
  },
  "language_info": {
   "codemirror_mode": {
    "name": "ipython",
    "version": 3
   },
   "file_extension": ".py",
   "mimetype": "text/x-python",
   "name": "python",
   "nbconvert_exporter": "python",
   "pygments_lexer": "ipython3",
   "version": "3.11.5"
  }
 },
 "nbformat": 4,
 "nbformat_minor": 2
}
