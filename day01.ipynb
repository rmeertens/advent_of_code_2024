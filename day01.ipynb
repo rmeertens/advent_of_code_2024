{
 "cells": [
  {
   "cell_type": "code",
   "execution_count": 1,
   "id": "846339cc",
   "metadata": {},
   "outputs": [
    {
     "name": "stdout",
     "output_type": "stream",
     "text": [
      "Part 1: 1765812\n",
      "Part 2: 20520794\n"
     ]
    }
   ],
   "source": [
    "from collections import Counter\n",
    "\n",
    "left_list = list()\n",
    "right_list = list()\n",
    "with open('inputs/day01.txt') as f: \n",
    "    for line in f: \n",
    "        first, second = line.split()\n",
    "        left_list.append(int(first))\n",
    "        right_list.append(int(second))\n",
    "        \n",
    "# Part 1\n",
    "left_list.sort()\n",
    "right_list.sort()\n",
    "delta_sum = 0 \n",
    "for l, r in zip(left_list, right_list): \n",
    "    delta_sum += abs(l-r)\n",
    "print('Part 1:', delta_sum)\n",
    "\n",
    "# Part 2\n",
    "similarity_score = 0 \n",
    "right_counter = Counter(right_list)\n",
    "for l in left_list: \n",
    "    similarity_score += l * right_counter[l]\n",
    "print('Part 2:', similarity_score)"
   ]
  }
 ],
 "metadata": {
  "kernelspec": {
   "display_name": "Python 3 (ipykernel)",
   "language": "python",
   "name": "python3"
  },
  "language_info": {
   "codemirror_mode": {
    "name": "ipython",
    "version": 3
   },
   "file_extension": ".py",
   "mimetype": "text/x-python",
   "name": "python",
   "nbconvert_exporter": "python",
   "pygments_lexer": "ipython3",
   "version": "3.9.13"
  }
 },
 "nbformat": 4,
 "nbformat_minor": 5
}
