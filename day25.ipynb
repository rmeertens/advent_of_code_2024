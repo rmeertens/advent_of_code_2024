{
 "cells": [
  {
   "cell_type": "code",
   "execution_count": 32,
   "metadata": {},
   "outputs": [
    {
     "name": "stdout",
     "output_type": "stream",
     "text": [
      "Final day! 2691\n"
     ]
    }
   ],
   "source": [
    "file = open('inputs/day25.txt').read()\n",
    "locks = file.split('\\n\\n')\n",
    "\n",
    "all_locks = list()\n",
    "all_keys = list()\n",
    "for lock in locks:\n",
    "    lock_lines = [x for x in lock.split('\\n') if x]\n",
    "    \n",
    "    # Rotate the lock and get the fingerprint\n",
    "    lock_rotated = list()\n",
    "    for y in range(len(lock_lines[0])):\n",
    "        lock_rotated.append(''.join([lock_lines[x][y] for x in range(len(lock_lines))]))\n",
    "    lock_fingerprint = [x.count('#')-1 for x in lock_rotated]\n",
    "\n",
    "    # Add the fingerprint to the list of locks or list of keys\n",
    "    if lock_lines[0] == '#####': # It's a lock\n",
    "        all_locks.append(lock_fingerprint)\n",
    "    else: # It's a key\n",
    "        all_keys.append(lock_fingerprint)\n",
    "\n",
    "total_fits = 0\n",
    "for lock_fingerprint in all_locks:\n",
    "    for key_fingerprint in all_keys:\n",
    "        combined = [x + y for (x,y) in zip(lock_fingerprint, key_fingerprint)]\n",
    "        total_fits += all([x < 6 for x in combined])\n",
    "print('Final day!', total_fits)\n",
    "        "
   ]
  },
  {
   "cell_type": "code",
   "execution_count": null,
   "metadata": {},
   "outputs": [],
   "source": []
  },
  {
   "cell_type": "code",
   "execution_count": null,
   "metadata": {},
   "outputs": [],
   "source": []
  },
  {
   "cell_type": "code",
   "execution_count": null,
   "metadata": {},
   "outputs": [],
   "source": []
  },
  {
   "cell_type": "code",
   "execution_count": null,
   "metadata": {},
   "outputs": [],
   "source": []
  }
 ],
 "metadata": {
  "kernelspec": {
   "display_name": "base",
   "language": "python",
   "name": "python3"
  },
  "language_info": {
   "codemirror_mode": {
    "name": "ipython",
    "version": 3
   },
   "file_extension": ".py",
   "mimetype": "text/x-python",
   "name": "python",
   "nbconvert_exporter": "python",
   "pygments_lexer": "ipython3",
   "version": "3.11.5"
  }
 },
 "nbformat": 4,
 "nbformat_minor": 2
}
