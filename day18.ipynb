{
 "cells": [
  {
   "cell_type": "code",
   "execution_count": 21,
   "metadata": {},
   "outputs": [
    {
     "name": "stdout",
     "output_type": "stream",
     "text": [
      "part 1 322\n",
      "part 2 (60, 21)\n"
     ]
    }
   ],
   "source": [
    "import re\n",
    "\n",
    "# input_file, size, first_steps = 'inputs/day18_example.txt', 6, 12\n",
    "input_file, size, first_steps = 'inputs/day18.txt', 70, 1024\n",
    "bytes = open(input_file).readlines()\n",
    "bytes = [list(map(int, re.findall(r'\\d+', byte))) for byte in bytes]\n",
    "bytes = [(x,y) for (x,y) in bytes]\n",
    "directions = [(0,1), (0,-1), (1,0), (-1,0)]\n",
    "\n",
    "def a_star_search(start, end, obstacles): \n",
    "    to_expand = [(0, 0, start)] # (f+h, distance, node)\n",
    "    expanded = set()\n",
    "\n",
    "    while to_expand:\n",
    "        to_expand.sort()\n",
    "        _, distance, current = to_expand.pop(0)\n",
    "\n",
    "        if current == end:\n",
    "            return distance\n",
    "        \n",
    "        if current in expanded:\n",
    "            continue\n",
    "        \n",
    "        expanded.add(current)\n",
    "        for direction in directions:\n",
    "            new = (current[0] + direction[0], current[1] + direction[1])\n",
    "            if 0 <= new[0] <= size and 0 <= new[1] <= size and new not in expanded:\n",
    "                if new in obstacles:\n",
    "                    continue\n",
    "                to_expand.append((distance+1+abs(new[0]-end[0])+abs(new[1]-end[1]), distance+1, new))\n",
    "    return None\n",
    "\n",
    "for i in range(first_steps, len(bytes)):\n",
    "    result = a_star_search((0,0), (size, size), bytes[:i])\n",
    "    if i == first_steps:\n",
    "        print('part 1', result)\n",
    "    if not result:\n",
    "        print('part 2', bytes[i-1])\n",
    "        break\n",
    "    \n",
    "\n"
   ]
  },
  {
   "cell_type": "code",
   "execution_count": null,
   "metadata": {},
   "outputs": [],
   "source": []
  }
 ],
 "metadata": {
  "kernelspec": {
   "display_name": "Python 3",
   "language": "python",
   "name": "python3"
  },
  "language_info": {
   "codemirror_mode": {
    "name": "ipython",
    "version": 3
   },
   "file_extension": ".py",
   "mimetype": "text/x-python",
   "name": "python",
   "nbconvert_exporter": "python",
   "pygments_lexer": "ipython3",
   "version": "3.11.5"
  }
 },
 "nbformat": 4,
 "nbformat_minor": 2
}
